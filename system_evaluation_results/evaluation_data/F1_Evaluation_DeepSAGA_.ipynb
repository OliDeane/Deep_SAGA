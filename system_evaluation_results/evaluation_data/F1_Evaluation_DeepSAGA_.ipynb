{
  "nbformat": 4,
  "nbformat_minor": 0,
  "metadata": {
    "colab": {
      "name": "F1_Evaluation_DeepSAGA_.ipynb",
      "provenance": [],
      "collapsed_sections": []
    },
    "kernelspec": {
      "name": "python3",
      "display_name": "Python 3"
    },
    "language_info": {
      "name": "python"
    }
  },
  "cells": [
    {
      "cell_type": "code",
      "metadata": {
        "id": "BT2eRvZ1q6LI"
      },
      "source": [
        "from sklearn.metrics import f1_score\n",
        "import pandas as pd\n",
        "# # Mount Google Drive - if using Google Colab\n",
        "# from google.colab import drive\n",
        "# drive.mount('/content/drive')\n",
        "# cd MyDrive/Gaze_Detection_System/RT_Raw_Data/additional_data/Publication_Data/performance_evaluation/"
      ],
      "execution_count": 14,
      "outputs": []
    },
    {
      "cell_type": "code",
      "metadata": {
        "id": "3qlKlfhLDRKw"
      },
      "source": [
        "# load in the file\n",
        "def load_file(coder, num):\n",
        "  filename = f\"{coder}_Data_Video_{num}.csv\"\n",
        "  file = pd.read_csv(filename)\n",
        "  return file"
      ],
      "execution_count": 26,
      "outputs": []
    },
    {
      "cell_type": "code",
      "metadata": {
        "id": "YoKac8NiDO8e"
      },
      "source": [
        "manual_datalist = []\n",
        "system_datalist = []\n",
        "\n",
        "for vid_num in range(1,6):\n",
        "\n",
        "  system_data = load_file('System',vid_num)\n",
        "  manual_data = load_file('Manual',vid_num)\n",
        "\n",
        "  system_data = system_data.rename(columns={system_data.columns[0]: \"item\"})\n",
        "  manual_data = manual_data.rename(columns={manual_data.columns[0]: \"item\"})\n",
        "\n",
        "  manual_datalist = manual_datalist + list(manual_data['item'])\n",
        "  system_datalist = system_datalist + list(system_data['item'])\n",
        "\n",
        "f1 = f1_score(manual_datalist, system_datalist, average='weighted')"
      ],
      "execution_count": 91,
      "outputs": []
    },
    {
      "cell_type": "code",
      "metadata": {
        "colab": {
          "base_uri": "https://localhost:8080/"
        },
        "id": "Aoiqy_ZxM5qb",
        "outputId": "4345a96d-ae69-4d65-f048-bf0666782871"
      },
      "source": [
        "f1"
      ],
      "execution_count": 92,
      "outputs": [
        {
          "output_type": "execute_result",
          "data": {
            "text/plain": [
              "0.8816910852311901"
            ]
          },
          "metadata": {
            "tags": []
          },
          "execution_count": 92
        }
      ]
    },
    {
      "cell_type": "code",
      "metadata": {
        "id": "NfrF5LLiPFaq"
      },
      "source": [],
      "execution_count": null,
      "outputs": []
    }
  ]
}