{
  "nbformat": 4,
  "nbformat_minor": 0,
  "metadata": {
    "colab": {
      "name": "RT_Data_Analysis.ipynb",
      "provenance": [],
      "collapsed_sections": []
    },
    "kernelspec": {
      "display_name": "Python 3",
      "name": "python3"
    },
    "language_info": {
      "name": "python"
    }
  },
  "cells": [
    {
      "cell_type": "code",
      "metadata": {
        "colab": {
          "base_uri": "https://localhost:8080/"
        },
        "id": "co6VTIvX6S1d",
        "outputId": "f544bfa6-c706-4ab2-e30a-42b71faf2494"
      },
      "source": [
        "!pip install scipy\n",
        "\n",
        "import pandas as pd\n",
        "import numpy as np\n",
        "from scipy.stats import f_oneway\n",
        "\n",
        "# from google.colab import drive\n",
        "# drive.mount('/content/drive')\n",
        "# cd drive/MyDrive/Gaze_Detection_System/RT_Raw_Data/"
      ],
      "execution_count": null,
      "outputs": [
        {
          "output_type": "stream",
          "text": [
            "Requirement already satisfied: scipy in /usr/local/lib/python3.7/dist-packages (1.4.1)\n",
            "Requirement already satisfied: numpy>=1.13.3 in /usr/local/lib/python3.7/dist-packages (from scipy) (1.19.5)\n",
            "Drive already mounted at /content/drive; to attempt to forcibly remount, call drive.mount(\"/content/drive\", force_remount=True).\n"
          ],
          "name": "stdout"
        }
      ]
    },
    {
      "cell_type": "code",
      "metadata": {
        "id": "k4cYsQ_yZ-lQ"
      },
      "source": [
        "  def filter_RTs(data):\n",
        "    # data = datasets[0]\n",
        "    data.head(5)\n",
        "    data = data.rename(columns={\"RespMat_ 1\": \"Index\", \"RespMat_ 2\": \"Trial number\", \"RespMat_ 3\": \"Block number\", \"RespMat_ 4\": \"Block trial number\", \"RespMat_ 5\": \"Arrow direction\", \"RespMat_ 6\": \"Scrambled?\"\\\n",
        "                                , \"RespMat_ 7\": \"Correct response\", \"RespMat_ 8\": \"Response\", \"RespMat_ 9\": \"Correct?\", \"RespMat_10\": \"RT\"\\\n",
        "                                , \"RespMat_11\": \"T/D same/diff\", \"RespMat_12\": \"D emotion\", \"RespMat_13\": \"which T\"})\n",
        "\n",
        "\n",
        "    data = data.tail(-1)\n",
        "    data.head(3)\n",
        "    og = data.shape[0]\n",
        "\n",
        "    # Remove incorrect trials\n",
        "    data = data[data['Correct?'] == '1']\n",
        "    print(data.shape)\n",
        "\n",
        "    # Remove RT's slower than 200ms\n",
        "    data['RT'] = data['RT'].astype(float)\n",
        "    data['D emotion'] = data['D emotion'].astype(float) # Also do for \n",
        "    data = data[data['RT'] < 2.0]\n",
        "\n",
        "\n",
        "    # # Remove 3 standard deviations from the mean\n",
        "    data = data[np.abs(data.RT-data.RT.mean()) <= (3*data.RT.std())]\n",
        "\n",
        "\n",
        "    print(f\"Removed: {og - data.shape[0]} datapoints\")\n",
        "\n",
        "    return data"
      ],
      "execution_count": null,
      "outputs": []
    },
    {
      "cell_type": "code",
      "metadata": {
        "id": "gNG-WZSoZzZ_"
      },
      "source": [
        "def get_ANOVA_dataframe(data, emotions):\n",
        "  # Get t\n",
        "  # emotions = ['Happy', 'Fearful', 'Neutral']\n",
        "  # anova_dataset = pd.DataFrame({'Happy': [], 'Fearful': [], 'Neutral':[]})\n",
        "\n",
        "  mean_emo_RT_list = []\n",
        "  for emo_num in range(1,4): # For every distractor emotion\n",
        "\n",
        "    non_scram_data = data[data['Scrambled?']=='1']\n",
        "    emo_series = non_scram_data[non_scram_data['D emotion']==emo_num] # Reduce the dataframe to only contain that emotion\n",
        "    mean_emo_RT_list.append(np.mean(emo_series['RT']))\n",
        "\n",
        "\n",
        "  \n",
        "  scram_data = data[data['Scrambled?']=='2']\n",
        "  mean_emo_RT_list.append(scram_data['RT'].dropna().mean())\n",
        "\n",
        "\n",
        "  return mean_emo_RT_list\n",
        "\n",
        "\n",
        "def do_ANOVA(anova_dataset):\n",
        "  fvalue, pvalue = f_oneway(anova_dataset['Happy'], anova_dataset['Fearful'], anova_dataset['Neutral'], anova_dataset['Scrambled'])\n",
        "  print(fvalue, pvalue)"
      ],
      "execution_count": null,
      "outputs": []
    },
    {
      "cell_type": "code",
      "metadata": {
        "id": "YQBHDEdz96Ve"
      },
      "source": [
        "# 2 means scrambled\n",
        "\n",
        "def get_raw_data(env):\n",
        "  datasets = []\n",
        "  for i in range(1,8):\n",
        "    datasets.append(pd.read_csv(f'pp{i}_{env}.csv'))\n",
        "  return datasets\n",
        "\n",
        "def setup_anova_dataset(datasets):\n",
        "  RTs = []\n",
        "  scram_mean_RTs = []\n",
        "  FD_mean_RTs_nonscram = []\n",
        "\n",
        "  anova_dataset = pd.DataFrame({'Happy': [], 'Fearful': [], 'Neutral':[], 'Scrambled':[]})\n",
        "  for i in range(len(datasets)):\n",
        "    data = datasets[i]\n",
        "    data = filter_RTs(data)\n",
        "\n",
        "    anova_dataset.loc[len(anova_dataset)] = get_ANOVA_dataframe(data, anova_dataset.columns)\n",
        "  return anova_dataset\n",
        "\n",
        "\n",
        "def get_ANOVA_results(env):\n",
        "\n",
        "  datasets = get_raw_data(env)\n",
        "\n",
        "  anova_dataset = setup_anova_dataset(datasets)\n",
        "  \n",
        "  do_ANOVA(anova_dataset)\n",
        "\n",
        "# Normally distributed!\n",
        "def check_normality(env):\n",
        "\n",
        "  datasets = get_raw_data(env)\n",
        "  anova_dataset = setup_anova_dataset(datasets)\n",
        "  for col in anova_dataset.columns:\n",
        "    print(stats.shapiro(anova_dataset[col]))\n",
        "\n"
      ],
      "execution_count": null,
      "outputs": []
    },
    {
      "cell_type": "markdown",
      "metadata": {
        "id": "Z7NzSN8ivaW8"
      },
      "source": [
        "Run Code"
      ]
    },
    {
      "cell_type": "code",
      "metadata": {
        "colab": {
          "base_uri": "https://localhost:8080/"
        },
        "id": "fr0aBMKsqRhS",
        "outputId": "0a193a97-cdd1-411f-8900-efed293121f9"
      },
      "source": [
        "from scipy import stats\n",
        "# Check for normality\n",
        "check_normality('N')\n",
        "\n",
        "print('---------------------------------')\n",
        "print('---------------------------------')\n",
        "print('---------------------------------')\n",
        "\n",
        "get_ANOVA_results('N')\n"
      ],
      "execution_count": null,
      "outputs": [
        {
          "output_type": "stream",
          "text": [
            "(525, 13)\n",
            "Removed: 61 datapoints\n",
            "(469, 13)\n",
            "Removed: 116 datapoints\n",
            "(473, 13)\n",
            "Removed: 103 datapoints\n",
            "(517, 13)\n",
            "Removed: 70 datapoints\n",
            "(474, 36)\n",
            "Removed: 102 datapoints\n",
            "(523, 13)\n",
            "Removed: 63 datapoints\n",
            "(513, 13)\n",
            "Removed: 69 datapoints\n",
            "(0.9701437950134277, 0.8994835615158081)\n",
            "(0.9802538752555847, 0.9607608914375305)\n",
            "(0.9713175296783447, 0.9077767729759216)\n",
            "(0.9859598278999329, 0.9832692742347717)\n",
            "---------------------------------\n",
            "---------------------------------\n",
            "---------------------------------\n",
            "(525, 13)\n",
            "Removed: 61 datapoints\n",
            "(469, 13)\n",
            "Removed: 116 datapoints\n",
            "(473, 13)\n",
            "Removed: 103 datapoints\n",
            "(517, 13)\n",
            "Removed: 70 datapoints\n",
            "(474, 36)\n",
            "Removed: 102 datapoints\n",
            "(523, 13)\n",
            "Removed: 63 datapoints\n",
            "(513, 13)\n",
            "Removed: 69 datapoints\n",
            "0.028693562945296566 0.9932730637991614\n"
          ],
          "name": "stdout"
        }
      ]
    },
    {
      "cell_type": "code",
      "metadata": {
        "colab": {
          "base_uri": "https://localhost:8080/",
          "height": 504
        },
        "id": "uXp7J-sJxHYq",
        "outputId": "f2012c91-fb20-4069-9528-8b7d7518795f"
      },
      "source": [
        "# Create table of means and stdevs\n",
        "\n"
      ],
      "execution_count": null,
      "outputs": [
        {
          "output_type": "stream",
          "text": [
            "(525, 13)\n",
            "Removed: 61 datapoints\n",
            "(469, 13)\n",
            "Removed: 116 datapoints\n",
            "(473, 13)\n",
            "Removed: 103 datapoints\n",
            "(517, 13)\n",
            "Removed: 70 datapoints\n",
            "(474, 36)\n",
            "Removed: 102 datapoints\n",
            "(523, 13)\n",
            "Removed: 63 datapoints\n",
            "(513, 13)\n",
            "Removed: 69 datapoints\n"
          ],
          "name": "stdout"
        },
        {
          "output_type": "execute_result",
          "data": {
            "text/html": [
              "<div>\n",
              "<style scoped>\n",
              "    .dataframe tbody tr th:only-of-type {\n",
              "        vertical-align: middle;\n",
              "    }\n",
              "\n",
              "    .dataframe tbody tr th {\n",
              "        vertical-align: top;\n",
              "    }\n",
              "\n",
              "    .dataframe thead th {\n",
              "        text-align: right;\n",
              "    }\n",
              "</style>\n",
              "<table border=\"1\" class=\"dataframe\">\n",
              "  <thead>\n",
              "    <tr style=\"text-align: right;\">\n",
              "      <th></th>\n",
              "      <th>Happy</th>\n",
              "      <th>Fearful</th>\n",
              "      <th>Neutral</th>\n",
              "      <th>Scrambled</th>\n",
              "    </tr>\n",
              "  </thead>\n",
              "  <tbody>\n",
              "    <tr>\n",
              "      <th>0</th>\n",
              "      <td>0.554058</td>\n",
              "      <td>0.545000</td>\n",
              "      <td>0.513212</td>\n",
              "      <td>0.537724</td>\n",
              "    </tr>\n",
              "    <tr>\n",
              "      <th>1</th>\n",
              "      <td>0.551883</td>\n",
              "      <td>0.585162</td>\n",
              "      <td>0.579660</td>\n",
              "      <td>0.561798</td>\n",
              "    </tr>\n",
              "    <tr>\n",
              "      <th>2</th>\n",
              "      <td>0.655111</td>\n",
              "      <td>0.686745</td>\n",
              "      <td>0.691767</td>\n",
              "      <td>0.643395</td>\n",
              "    </tr>\n",
              "    <tr>\n",
              "      <th>3</th>\n",
              "      <td>0.484374</td>\n",
              "      <td>0.476003</td>\n",
              "      <td>0.471156</td>\n",
              "      <td>0.451394</td>\n",
              "    </tr>\n",
              "    <tr>\n",
              "      <th>4</th>\n",
              "      <td>0.768140</td>\n",
              "      <td>0.744521</td>\n",
              "      <td>0.782365</td>\n",
              "      <td>0.734297</td>\n",
              "    </tr>\n",
              "    <tr>\n",
              "      <th>5</th>\n",
              "      <td>0.514225</td>\n",
              "      <td>0.526425</td>\n",
              "      <td>0.525101</td>\n",
              "      <td>0.525008</td>\n",
              "    </tr>\n",
              "    <tr>\n",
              "      <th>6</th>\n",
              "      <td>0.359300</td>\n",
              "      <td>0.368335</td>\n",
              "      <td>0.362897</td>\n",
              "      <td>0.352043</td>\n",
              "    </tr>\n",
              "  </tbody>\n",
              "</table>\n",
              "</div>"
            ],
            "text/plain": [
              "      Happy   Fearful   Neutral  Scrambled\n",
              "0  0.554058  0.545000  0.513212   0.537724\n",
              "1  0.551883  0.585162  0.579660   0.561798\n",
              "2  0.655111  0.686745  0.691767   0.643395\n",
              "3  0.484374  0.476003  0.471156   0.451394\n",
              "4  0.768140  0.744521  0.782365   0.734297\n",
              "5  0.514225  0.526425  0.525101   0.525008\n",
              "6  0.359300  0.368335  0.362897   0.352043"
            ]
          },
          "metadata": {
            "tags": []
          },
          "execution_count": 39
        }
      ]
    },
    {
      "cell_type": "code",
      "metadata": {
        "colab": {
          "base_uri": "https://localhost:8080/",
          "height": 349
        },
        "id": "DNfr8L0izppe",
        "outputId": "d12a2c2a-af3f-4349-c9a2-46264d27bc68"
      },
      "source": [
        "datasets = get_raw_data('C')\n",
        "anova_dataset = setup_anova_dataset(datasets)\n",
        "anova_dataset\n",
        "\n",
        "mean_list = list(anova_dataset.mean())\n",
        "stdev_list = list(anova_dataset.std()) \n",
        "\n",
        "pd.DataFrame(data = [mean_list,stdev_list] , columns=anova_dataset.columns, index = ['mean', 'stdev'])\n"
      ],
      "execution_count": null,
      "outputs": [
        {
          "output_type": "stream",
          "text": [
            "(518, 13)\n",
            "Removed: 68 datapoints\n",
            "(460, 13)\n",
            "Removed: 121 datapoints\n",
            "(526, 13)\n",
            "Removed: 61 datapoints\n",
            "(507, 13)\n",
            "Removed: 76 datapoints\n",
            "(477, 13)\n",
            "Removed: 99 datapoints\n",
            "(558, 13)\n",
            "Removed: 29 datapoints\n",
            "(413, 13)\n",
            "Removed: 172 datapoints\n"
          ],
          "name": "stdout"
        },
        {
          "output_type": "execute_result",
          "data": {
            "text/html": [
              "<div>\n",
              "<style scoped>\n",
              "    .dataframe tbody tr th:only-of-type {\n",
              "        vertical-align: middle;\n",
              "    }\n",
              "\n",
              "    .dataframe tbody tr th {\n",
              "        vertical-align: top;\n",
              "    }\n",
              "\n",
              "    .dataframe thead th {\n",
              "        text-align: right;\n",
              "    }\n",
              "</style>\n",
              "<table border=\"1\" class=\"dataframe\">\n",
              "  <thead>\n",
              "    <tr style=\"text-align: right;\">\n",
              "      <th></th>\n",
              "      <th>Happy</th>\n",
              "      <th>Fearful</th>\n",
              "      <th>Neutral</th>\n",
              "      <th>Scrambled</th>\n",
              "    </tr>\n",
              "  </thead>\n",
              "  <tbody>\n",
              "    <tr>\n",
              "      <th>mean</th>\n",
              "      <td>0.550543</td>\n",
              "      <td>0.555119</td>\n",
              "      <td>0.55694</td>\n",
              "      <td>0.520739</td>\n",
              "    </tr>\n",
              "    <tr>\n",
              "      <th>stdev</th>\n",
              "      <td>0.124094</td>\n",
              "      <td>0.128698</td>\n",
              "      <td>0.13032</td>\n",
              "      <td>0.117562</td>\n",
              "    </tr>\n",
              "  </tbody>\n",
              "</table>\n",
              "</div>"
            ],
            "text/plain": [
              "          Happy   Fearful  Neutral  Scrambled\n",
              "mean   0.550543  0.555119  0.55694   0.520739\n",
              "stdev  0.124094  0.128698  0.13032   0.117562"
            ]
          },
          "metadata": {
            "tags": []
          },
          "execution_count": 58
        }
      ]
    },
    {
      "cell_type": "code",
      "metadata": {
        "id": "hhYzGqpr0OUI"
      },
      "source": [],
      "execution_count": null,
      "outputs": []
    },
    {
      "cell_type": "code",
      "metadata": {
        "id": "4FFUQLpOLaAf"
      },
      "source": [],
      "execution_count": null,
      "outputs": []
    }
  ]
}